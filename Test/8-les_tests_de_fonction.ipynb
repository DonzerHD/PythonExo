{
 "cells": [
  {
   "cell_type": "markdown",
   "metadata": {},
   "source": [
    "# Testez une fonction"
   ]
  },
  {
   "cell_type": "markdown",
   "metadata": {},
   "source": [
    "## Découvrir les tests"
   ]
  },
  {
   "cell_type": "markdown",
   "metadata": {},
   "source": [
    "Il faut partir du principe qu'une fonction ou une méthode qui n'est pas testée n'existe pas"
   ]
  },
  {
   "cell_type": "markdown",
   "metadata": {},
   "source": [
    "Les test initialements servent à deux choses:\n",
    "- savoir si votre fonction marche sans devoir tester à la main tous les cas de figure. On appelle cela un **`test unitaire`**.\n",
    "- Quand vous développez autre chose, voir si ce qui marchait avant continue de marcher. On appelle ça un **`test de non regression`**"
   ]
  },
  {
   "cell_type": "markdown",
   "metadata": {},
   "source": [
    "Il existe également des tests de plus haut niveau:\n",
    "- **`test d'intégration`**: vérifier que deux parties de votre code fonctionnent ensemble (test unitaire multiple)\n",
    "- - **`test fonctionnel`**: vérifier qu'une des fonctionnalités de votre code fonctionne du début à la fin (test d'intégration multiple)\n",
    "- **`recette`**: tester que l'utlisation de l'application par l'utilisateur final correspond bien à ses attentes (tests souvent non automatiques et réalisés par le client non dévelopeur)"
   ]
  },
  {
   "cell_type": "markdown",
   "metadata": {},
   "source": [
    "Les tests ont aussi un autre usage, celui d'organiser votre pensée avant de coder, cela est particulièrement poussé avec le **`test driven developement`**"
   ]
  },
  {
   "cell_type": "markdown",
   "metadata": {},
   "source": [
    "## Que faut-il tester"
   ]
  },
  {
   "cell_type": "markdown",
   "metadata": {},
   "source": [
    "L'idée est de considérer les fonctions (et les classes quand on les testera) comme des boites noires. Cela ne nous interesse pas de savoir comment une fonction fait pour faire quelque chose.\n",
    "\n",
    "Ce qui nous interesse c'est de savoir si pour un certain **`input`** donne bien l'**`output`** attendu \n",
    "\n",
    "On parle de tests unitaires, il faut donc tester une seule chose par test.\n",
    "\n",
    "Une notion importante quand on test est la notion de responsabilité. Elle est au coeur d'un des principes centaux en dévelopement le The Single Responsibility Principle (SRP). Toute fonction, méthode, classe ou package dans un programme ne doit être responsable que d'une seule chose. Cette chose logiquement entre une méthode et un package est plus ou moins large. Mais on ne doit pas être obligé quand on décrit son fonctionnement de dire \"ça permet de faire ça et aussi ça\". \n",
    "\n",
    "Du SRP découle un autre principe, le fait de ne tester que ce dont est responsable.\n",
    "\n",
    "Par exemple, quand on fait des tests sur un framework:\n",
    "- On ne doit pas test:\n",
    "  - Que l'ORM Requete bien la BDD (c'est le travail de Django)\n",
    "  - Qu'une vue qui renvoit un certain template html, affiche bien ce template html (c'est le travail de Django)\n",
    "  - Qu'un url qui appelle une fontion, appelle bien cette fonction (c'est le travail de Django)\n",
    "- Mais on doit tester:\n",
    "  - Toutes les méthodes de modèle qu'on a écrit nous même\n",
    "  - Toutes les vues qu'on a créé pour s'assurer qu'elles renvoient le contexte attendu\n",
    "  - Toutes les fonctions \"utils\" qu'on a écrit\n",
    "  - S'assurer que la vue renvoie le template attendu\n",
    "  - Qu'un url appelle la fonction attendue.\n",
    "  - De manière générale tout ce qu'on a écrit nous même\n"
   ]
  },
  {
   "cell_type": "markdown",
   "metadata": {},
   "source": [
    "Vous avez fait des tests quand vous avez utilisé codewars.:\n",
    "\n",
    "![code war test](static/codewar_test.png)"
   ]
  },
  {
   "cell_type": "markdown",
   "metadata": {},
   "source": [
    "## Les tests concrétement"
   ]
  },
  {
   "cell_type": "markdown",
   "metadata": {},
   "source": [
    "Il y a deux bibliothèques majeures de test en python:\n",
    "- [Pytest](https://docs.pytest.org/en/7.2.x/): qu'il faut installer\n",
    "- [Unittest](https://docs.python.org/3/library/unittest.html): inclu dans python.\n",
    "\n",
    "Les deux librairies sont pratiquements équivalentes. Les deux sont orientées objets donc il est possible de les modifier comme on le souhaite. En fonction du framework (Flask plutot pytest / Django plutot unitest) mais surtout en fonction de votre entreprise, vous serez amenés à utiliser l'un ou l'autre."
   ]
  },
  {
   "cell_type": "code",
   "execution_count": 1,
   "metadata": {},
   "outputs": [],
   "source": [
    "def add(a,b):\n",
    "    return a+b"
   ]
  },
  {
   "cell_type": "code",
   "execution_count": 3,
   "metadata": {},
   "outputs": [
    {
     "data": {
      "text/plain": [
       "'pytest'"
      ]
     },
     "execution_count": 3,
     "metadata": {},
     "output_type": "execute_result"
    }
   ],
   "source": [
    "import pytest\n",
    "\n",
    "# le test correspond à un \n",
    "def test_add_with_pytest():\n",
    "    assert add(3,4) == 7\n",
    "    assert add(\"a\",\"b\") == \"ab\"\n",
    "    #assert add(3.2,5.3) == 8.0\n",
    "\n",
    "\n",
    "#  on execute les tests en écrivant la commande suivante dans le terminal (de nombreuses options d'execution sont disponibles)\n",
    "\"\"\"pytest\"\"\""
   ]
  },
  {
   "cell_type": "code",
   "execution_count": null,
   "metadata": {},
   "outputs": [],
   "source": [
    "import unittest\n",
    "\n",
    "class TestAddWithUnittest(unittest.TestCase):\n",
    "\n",
    "    def test_upper(self):\n",
    "        self.assertEqual(add(3,4), 7)\n",
    "        self.assertEqual(add(\"a\",\"b\"), \"ab\")\n",
    "\n",
    "#  on execute les tests en écrivant la commande suivante dans le terminal (de nombreuses options d'execution sont disponibles)\n",
    "\"\"\"python -m unittest\"\"\""
   ]
  },
  {
   "cell_type": "markdown",
   "metadata": {},
   "source": [
    "## Estimer sa couverture de test"
   ]
  },
  {
   "cell_type": "markdown",
   "metadata": {},
   "source": [
    "### Pytest"
   ]
  },
  {
   "cell_type": "markdown",
   "metadata": {},
   "source": [
    "Commencez par installer la librairie en écrivant dans votre terminal **`pip install coverage`** puis **`pip install pytest-cov`**.\n",
    "\n",
    "Puis lancez la commande suivante dans le terminal : **`pytest --cov=répertoire_du_code_source`**.\n",
    "\n"
   ]
  },
  {
   "cell_type": "markdown",
   "metadata": {},
   "source": [
    "### Unittest"
   ]
  },
  {
   "cell_type": "markdown",
   "metadata": {},
   "source": [
    "**`python -m coverage run -m unittest`**\n",
    "\n",
    "Second, turn the coverage data into a report:\n",
    "\n",
    "**`python -m coverage report`**"
   ]
  },
  {
   "cell_type": "markdown",
   "metadata": {},
   "source": [
    "## Comment écrire ses tests?"
   ]
  },
  {
   "cell_type": "markdown",
   "metadata": {},
   "source": [
    "### Le Test Driven Development (TDD)"
   ]
  },
  {
   "cell_type": "markdown",
   "metadata": {},
   "source": [
    "Le Test Driven Development est une philosophie de code. Puisqu'on considère que tout ce qui n'est pas testé n'existe pas et qu'il est difficile de comprendre ce qu'il faut tester à la fin d'un projet, autant écrire les tests avant le projet.\n",
    "\n",
    "Concrètement:\n",
    "- on commencer par écrire les tests qui définiront ce que l'on attend de notre code. Cette étape permet avant même de coder de visualiser nos attentes\n",
    "- on run ces tests et comme on n'a encore rien coder, tout fail\n",
    "- on code ensuite ce qu'on foit coder jusqu'à ce que nos tests passent"
   ]
  },
  {
   "cell_type": "markdown",
   "metadata": {},
   "source": [
    "Il y a trois règles au Test Driven Development"
   ]
  },
  {
   "cell_type": "markdown",
   "metadata": {},
   "source": [
    "- on ne code rien tant qu'on n'a pas écrit un test dessus\n",
    "- n'écrire que les tests nécessaires à la réussite du projet\n",
    "- Ne coder que ce qui est nécessaire à la réussite du test."
   ]
  },
  {
   "cell_type": "markdown",
   "metadata": {},
   "source": [
    "Le TDD permet d'obtenir un code de très grande qualité car il permet de tout penser en amont du dévelopement et d'obtenir un code systèmatiquement testé. \n",
    "Cependant il est très difficile, voire impossible de le mettre en place quand on ne maitrise pas bien les objets qu'on va utiliser dans notre code, il demande d'avoir une certaine vision et donc une certaine expérience."
   ]
  },
  {
   "cell_type": "markdown",
   "metadata": {},
   "source": [
    "Le TDD est un objectif qu'on atteint progressivement. Il faut garder en tête cet objectif mais pas non plus espérer pouvoir l'atteindre d'un seul coup"
   ]
  },
  {
   "cell_type": "markdown",
   "metadata": {},
   "source": [
    "**`Exercice`**:\n",
    "- Créez un test pour définir une fonction my_sort qui fonctionne comme la méthode de liste sort(), \n",
    "- Elle est capable de trier dans l'ordre croissant des listes: \n",
    "    - de integer \n",
    "    - de string \n",
    "    - de Booléen. \n",
    "- Elle doit par contre renvoyer une erreur si on tente de trier une liste qui mélange ces types\n",
    "- constuire ensuite cette fonction dans un autre fichier afin que ces tests passent avec succès.\n",
    "- consigne: pour le test vous avez le droit d'utiliser la méthode sort mais pas pour votre fonction (vous pouvez utiliser la fonction min)"
   ]
  },
  {
   "cell_type": "markdown",
   "metadata": {},
   "source": [
    "### Le test au fil de l'eau"
   ]
  },
  {
   "cell_type": "markdown",
   "metadata": {},
   "source": [
    "Le test au fil de l'eau est compatible avec le TDD mais contitue également une manière d'y parvenir.\n",
    "\n",
    "Cela consiste à écrire un Test à chaque fois qu'on a une erreur. \n",
    "\n",
    "Quand on developpe un fonction qui rencontre un bug, on écrit un test qui souleve ce bug, et ensuite on essaie de résoudre et le bug et de faire passer notre test. Cela permet d'avoir des cas de test très concrets."
   ]
  }
 ],
 "metadata": {
  "kernelspec": {
   "display_name": "base",
   "language": "python",
   "name": "python3"
  },
  "language_info": {
   "codemirror_mode": {
    "name": "ipython",
    "version": 3
   },
   "file_extension": ".py",
   "mimetype": "text/x-python",
   "name": "python",
   "nbconvert_exporter": "python",
   "pygments_lexer": "ipython3",
   "version": "3.10.8"
  },
  "orig_nbformat": 4,
  "vscode": {
   "interpreter": {
    "hash": "d25f34363254810493f69e19f8fea8925d807b842d2c9e5aec83143d940402f1"
   }
  }
 },
 "nbformat": 4,
 "nbformat_minor": 2
}
