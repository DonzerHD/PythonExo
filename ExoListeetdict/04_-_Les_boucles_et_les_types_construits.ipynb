{
 "cells": [
  {
   "cell_type": "markdown",
   "id": "ceaa498c",
   "metadata": {},
   "source": [
    "# 04 - Les boucles et les types construits\n",
    "\n",
    "## Exercice 1 :\n",
    "\n",
    "Écrire un programme qui affiche un triangle de la taille d'un nombre rentré par l'utilisateur dans la console à l'aide de caractères \"#\".\n",
    "\n",
    "Voir l'exemple ci-dessous (ici l'utilisateur a tapé le nombre 7)"
   ]
  },
  {
   "cell_type": "raw",
   "id": "d4522c6a",
   "metadata": {},
   "source": [
    "#\n",
    "##\n",
    "###\n",
    "####\n",
    "#####\n",
    "######\n",
    "#######"
   ]
  },
  {
   "cell_type": "code",
   "execution_count": 24,
   "id": "13e80b8c",
   "metadata": {},
   "outputs": [
    {
     "name": "stdout",
     "output_type": "stream",
     "text": [
      "\n",
      "#\n",
      "##\n",
      "###\n",
      "####\n",
      "#####\n",
      "######\n"
     ]
    }
   ],
   "source": [
    "nombre = input('Entrez un nombre : ')\n",
    "for i in range(int(nombre)):\n",
    "    d = '#' * i\n",
    "    print(d)\n",
    "    i += 1\n",
    "    "
   ]
  },
  {
   "cell_type": "markdown",
   "id": "5842d6cb",
   "metadata": {},
   "source": [
    "## Exercice 2 :\n",
    "Écrire une fonction qui prend une liste de nombre en paramètre et qui renvoie la somme de tous les éléments de la liste"
   ]
  },
  {
   "cell_type": "code",
   "execution_count": 3,
   "id": "918d7937",
   "metadata": {},
   "outputs": [],
   "source": [
    "liste_nombre = [ 1, 2, 6, 5, 9, 3 ]\n",
    "liste_nombreAutre = [ 2 , 6 , 5, 5 , 7]"
   ]
  },
  {
   "cell_type": "code",
   "execution_count": 1,
   "id": "77fb9ae3",
   "metadata": {},
   "outputs": [],
   "source": [
    "def somme(liste:list) -> float:\n",
    "    \"\"\"_summary_\n",
    "\n",
    "    Args:\n",
    "        liste (list): _description_\n",
    "\n",
    "    Returns:\n",
    "        float: _description_\n",
    "    \"\"\"\n",
    "    somme = 0\n",
    "    for i in range(len(liste)):\n",
    "        somme = float(somme) + liste[i]\n",
    "    return somme"
   ]
  },
  {
   "cell_type": "code",
   "execution_count": 4,
   "id": "6770170e",
   "metadata": {},
   "outputs": [
    {
     "name": "stdout",
     "output_type": "stream",
     "text": [
      "26.0\n",
      "25.0\n"
     ]
    }
   ],
   "source": [
    "print(somme(liste_nombre))\n",
    "print(somme(liste_nombreAutre))"
   ]
  },
  {
   "cell_type": "markdown",
   "id": "ffccc0ff",
   "metadata": {},
   "source": [
    "## Exercice 3 :\n",
    "\n",
    "Écrire une fonction qui prend comme argument une liste de nombre, et qui renvoie la moyenne des nombres de la liste."
   ]
  },
  {
   "cell_type": "code",
   "execution_count": 46,
   "id": "93fcbabe",
   "metadata": {},
   "outputs": [],
   "source": [
    "def moyenne(liste):\n",
    "    total = somme(liste)\n",
    "    moyenne = total / len(liste)\n",
    "    return moyenne"
   ]
  },
  {
   "cell_type": "code",
   "execution_count": 47,
   "id": "5dffb035",
   "metadata": {},
   "outputs": [
    {
     "name": "stdout",
     "output_type": "stream",
     "text": [
      "4.333333333333333\n",
      "5.0\n"
     ]
    }
   ],
   "source": [
    "print(moyenne(liste_nombre))\n",
    "print(moyenne(liste_nombreAutre))"
   ]
  },
  {
   "cell_type": "markdown",
   "id": "16eabcaf",
   "metadata": {},
   "source": [
    "## Exercice 4 :\n",
    "\n",
    "Créez un programme qui affiche dans la console tous les nombres de 1 à 100 avec deux exceptions : les nombres divisibles par 3, doivent être remplacés par « Fizz » et ceux divisibles par 5 doivent être remplacés par « Fuzz »."
   ]
  },
  {
   "cell_type": "code",
   "execution_count": 59,
   "id": "ec14dbb7",
   "metadata": {},
   "outputs": [
    {
     "name": "stdout",
     "output_type": "stream",
     "text": [
      "1\n",
      "2\n",
      "Fizz\n",
      "4\n",
      "Fuzz\n",
      "Fizz\n",
      "7\n",
      "8\n",
      "Fizz\n",
      "Fuzz\n",
      "11\n",
      "Fizz\n",
      "13\n",
      "14\n",
      "Fizz et Fuzz\n",
      "16\n",
      "17\n",
      "Fizz\n",
      "19\n",
      "Fuzz\n",
      "Fizz\n",
      "22\n",
      "23\n",
      "Fizz\n",
      "Fuzz\n",
      "26\n",
      "Fizz\n",
      "28\n",
      "29\n",
      "Fizz et Fuzz\n",
      "31\n",
      "32\n",
      "Fizz\n",
      "34\n",
      "Fuzz\n",
      "Fizz\n",
      "37\n",
      "38\n",
      "Fizz\n",
      "Fuzz\n",
      "41\n",
      "Fizz\n",
      "43\n",
      "44\n",
      "Fizz et Fuzz\n",
      "46\n",
      "47\n",
      "Fizz\n",
      "49\n",
      "Fuzz\n",
      "Fizz\n",
      "52\n",
      "53\n",
      "Fizz\n",
      "Fuzz\n",
      "56\n",
      "Fizz\n",
      "58\n",
      "59\n",
      "Fizz et Fuzz\n",
      "61\n",
      "62\n",
      "Fizz\n",
      "64\n",
      "Fuzz\n",
      "Fizz\n",
      "67\n",
      "68\n",
      "Fizz\n",
      "Fuzz\n",
      "71\n",
      "Fizz\n",
      "73\n",
      "74\n",
      "Fizz et Fuzz\n",
      "76\n",
      "77\n",
      "Fizz\n",
      "79\n",
      "Fuzz\n",
      "Fizz\n",
      "82\n",
      "83\n",
      "Fizz\n",
      "Fuzz\n",
      "86\n",
      "Fizz\n",
      "88\n",
      "89\n",
      "Fizz et Fuzz\n",
      "91\n",
      "92\n",
      "Fizz\n",
      "94\n",
      "Fuzz\n",
      "Fizz\n",
      "97\n",
      "98\n",
      "Fizz\n",
      "Fuzz\n"
     ]
    }
   ],
   "source": [
    "for i in range(1,101):\n",
    "    if i % 3 == 0 and i % 5 != 0 :\n",
    "        print(\"Fizz\")\n",
    "    elif i % 5 == 0 and i % 3 != 0:\n",
    "        print(\"Fuzz\")\n",
    "    elif i % 5 == 0 and i % 3 == 0:\n",
    "        print('Fizz et Fuzz')\n",
    "    else:\n",
    "        print(i) "
   ]
  },
  {
   "cell_type": "markdown",
   "id": "50f8b375",
   "metadata": {},
   "source": [
    "## Exercice 5 : \n",
    "\n",
    "Écrire une fonction qui prend comme argument une liste et qui renvoie une liste contenant les mêmes éléments, mais dans l'ordre inverse.\n",
    "\n",
    "ex :"
   ]
  },
  {
   "cell_type": "raw",
   "id": "c40fd78b",
   "metadata": {},
   "source": [
    "[1, \"test\", 0.9867, \"Python, c'est génial !\"]\n",
    "\n",
    "Devient après le passage dans votre fonction :\n",
    "\n",
    "[\"Python, c'est génial !\", 0.9867, \"test\", 1]"
   ]
  },
  {
   "cell_type": "code",
   "execution_count": 52,
   "id": "407b32fc",
   "metadata": {},
   "outputs": [],
   "source": [
    "liste_exo = [1, \"test\", 0.9867, \"Python, c'est génial !\"]\n",
    "\n",
    "def ordreInverse(liste):\n",
    "    \"\"\"\n",
    "        Permet\n",
    "    Args:\n",
    "        liste (_type_): _description_\n",
    "    \"\"\"\n",
    "    listeN = liste[::-1]\n",
    "    print(listeN)\n",
    "    "
   ]
  },
  {
   "cell_type": "code",
   "execution_count": 54,
   "id": "031cc8ee",
   "metadata": {},
   "outputs": [
    {
     "name": "stdout",
     "output_type": "stream",
     "text": [
      "[\"Python, c'est génial !\", 0.9867, 'test', 1]\n",
      "[1, 'test', 0.9867, \"Python, c'est génial !\"]\n"
     ]
    }
   ],
   "source": [
    "ordreInverse(liste_exo)\n",
    "print(liste_exo)"
   ]
  },
  {
   "cell_type": "markdown",
   "id": "734d8272",
   "metadata": {},
   "source": [
    "*remarque :* Affichez votre liste d'origine : y a t'il eu des changements ?"
   ]
  },
  {
   "cell_type": "markdown",
   "id": "b0d3d8b7",
   "metadata": {},
   "source": [
    "## Exercice 6 :\n",
    "\n",
    "Créer un dictionnaire contenant des mots et leurs définitions.\n",
    "Écrire un programme qui demande à l'utilisateur un mot. Si ce mot est dans le dictionnaire, affichez sa définition. Sinon, affichez \"Nous ne connaissons pas ce mot\""
   ]
  },
  {
   "cell_type": "code",
   "execution_count": 55,
   "id": "49c11049",
   "metadata": {},
   "outputs": [],
   "source": [
    "dictionnaire = {\"voiture\": \"véhicule à quatre roues\", \"vélo\": \"véhicule à deux roues\"}"
   ]
  },
  {
   "cell_type": "code",
   "execution_count": 63,
   "id": "91a824e7",
   "metadata": {},
   "outputs": [
    {
     "name": "stdout",
     "output_type": "stream",
     "text": [
      "véhicule à quatre roues\n"
     ]
    }
   ],
   "source": [
    "mot = input('Entrez un mot : ')\n",
    "if dictionnaire.get(mot):\n",
    "    print(dictionnaire[mot])\n",
    "else:\n",
    "    print(\"Nous ne connaissons pas ce mot\")"
   ]
  },
  {
   "cell_type": "markdown",
   "id": "9cd113e9",
   "metadata": {},
   "source": [
    "## Exercice 7 :\n",
    "\n",
    "Créer une liste (**par compréhension !**) qui contient 1000 nombres aléatoires entre 1 et 100 (1000 lancers de dé)\n",
    "\n",
    "## Exercice 8 : \n",
    "\n",
    "À partir de la liste de l'exercice 7, créer une nouvelle liste qui ne contient que les jets qui ont donné un score inférieur à 10. Afficher leur nombre. (Il existe deux méthodes pour créer la nouvelle liste : soit avec avec une boucle, soit par compréhension. Essayer avec les deux méthodes."
   ]
  },
  {
   "cell_type": "code",
   "execution_count": 121,
   "id": "cd4c3956",
   "metadata": {},
   "outputs": [
    {
     "name": "stdout",
     "output_type": "stream",
     "text": [
      "[6, 0, 2, 3, 6, 2, 3, 7, 5, 8, 1, 1, 1, 5, 6, 2, 5, 3, 7, 5, 6, 4, 2, 9, 4, 9, 6, 5, 1, 3, 7, 2, 4, 6, 2, 2, 3, 2, 6, 5, 7, 1, 6, 5, 4, 5, 7, 9, 8, 9, 4, 0, 8, 7, 8, 9, 9, 1, 8, 1, 8, 3, 5, 0, 2, 8, 8, 4, 1, 3, 8, 7, 5, 3, 6, 9, 5, 7, 9, 9, 8, 4, 9, 9, 6, 9, 7, 4, 4, 6, 4, 8, 7, 2, 4, 4, 6, 2, 7, 6, 7, 8, 2, 7, 0, 0, 3, 1]\n"
     ]
    }
   ],
   "source": [
    "from random import *\n",
    "liste_random = [randint(0, 100) for b in range(1000)]\n",
    "nouvelle_liste = []\n",
    "for b in liste_random:\n",
    "    if b < 10 :\n",
    "        nouvelle_liste.append(b)\n",
    "    else:\n",
    "        continue\n",
    "print(nouvelle_liste)\n",
    "    "
   ]
  },
  {
   "cell_type": "code",
   "execution_count": 122,
   "id": "f3326828",
   "metadata": {},
   "outputs": [
    {
     "name": "stdout",
     "output_type": "stream",
     "text": [
      "[6, 0, 2, 3, 6, 2, 3, 7, 5, 8, 1, 1, 1, 5, 6, 2, 5, 3, 7, 5, 6, 4, 2, 9, 4, 9, 6, 5, 1, 3, 7, 2, 4, 6, 2, 2, 3, 2, 6, 5, 7, 1, 6, 5, 4, 5, 7, 9, 8, 9, 4, 0, 8, 7, 8, 9, 9, 1, 8, 1, 8, 3, 5, 0, 2, 8, 8, 4, 1, 3, 8, 7, 5, 3, 6, 9, 5, 7, 9, 9, 8, 4, 9, 9, 6, 9, 7, 4, 4, 6, 4, 8, 7, 2, 4, 4, 6, 2, 7, 6, 7, 8, 2, 7, 0, 0, 3, 1]\n"
     ]
    }
   ],
   "source": [
    "nouvelle_liste_methode2 = [n for n in liste_random if n < 10]\n",
    "print(nouvelle_liste_methode2)"
   ]
  }
 ],
 "metadata": {
  "kernelspec": {
   "display_name": "base",
   "language": "python",
   "name": "python3"
  },
  "language_info": {
   "codemirror_mode": {
    "name": "ipython",
    "version": 3
   },
   "file_extension": ".py",
   "mimetype": "text/x-python",
   "name": "python",
   "nbconvert_exporter": "python",
   "pygments_lexer": "ipython3",
   "version": "3.10.8 (main, Nov 24 2022, 14:13:03) [GCC 11.2.0]"
  },
  "vscode": {
   "interpreter": {
    "hash": "d25f34363254810493f69e19f8fea8925d807b842d2c9e5aec83143d940402f1"
   }
  }
 },
 "nbformat": 4,
 "nbformat_minor": 5
}
