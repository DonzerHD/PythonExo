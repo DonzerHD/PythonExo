{
 "cells": [
  {
   "cell_type": "code",
   "execution_count": null,
   "metadata": {},
   "outputs": [],
   "source": [
    "# exercice 1 :\n",
    "\n",
    "nb_user = int(input(\"Entrez un nombre\"))\n",
    "\n",
    "for i in range(1, nb_user+1):\n",
    "    print(i*\"#\")"
   ]
  },
  {
   "cell_type": "code",
   "execution_count": null,
   "metadata": {},
   "outputs": [],
   "source": [
    "# Exercice 2 :\n",
    "\n",
    "def calculer_somme_liste(liste:list) -> int:\n",
    "    \"\"\"\n",
    "    Fonction qui calcul la somme de tous les éléments de la liste donnée en paramètre\n",
    "    :param liste: (list) Une liste de nombres entiers\n",
    "    :return: (int) La somme de tous les éléments de la liste\n",
    "    \"\"\"\n",
    "    resultat = 0\n",
    "    for elt in liste:\n",
    "        resultat += elt\n",
    "    return resultat"
   ]
  },
  {
   "cell_type": "code",
   "execution_count": null,
   "metadata": {},
   "outputs": [],
   "source": [
    "l = [1, 34, 67, 89]\n",
    "calculer_somme_liste(l)"
   ]
  },
  {
   "cell_type": "code",
   "execution_count": null,
   "metadata": {},
   "outputs": [],
   "source": [
    "# Exercice 3 :\n",
    "\n",
    "def calculer_moyenne(liste:list) -> int:\n",
    "    \"\"\"\n",
    "    Fonction qui calcule la moyenne d'une liste\n",
    "    \n",
    "    Args:\n",
    "        liste (list): Une liste de nombre\n",
    "\n",
    "    Returns:\n",
    "        float: Moyenne des éléments de la liste\n",
    "    \"\"\"\n",
    "    return calculer_somme_liste(liste) / len(liste)"
   ]
  },
  {
   "cell_type": "code",
   "execution_count": null,
   "metadata": {},
   "outputs": [],
   "source": [
    "calculer_moyenne(l)"
   ]
  },
  {
   "cell_type": "code",
   "execution_count": null,
   "metadata": {},
   "outputs": [],
   "source": [
    "# Exercice 4 :\n",
    "\n",
    "for i in range(1, 101):\n",
    "    if i%3 == 0 and i%5 == 0:\n",
    "        print(\"FizzFuzz\", \"multiple de 15\")\n",
    "    elif i%3 == 0:\n",
    "        print(\"Fizz\")\n",
    "    elif i%5 == 0:\n",
    "        print(\"fuzz\")\n",
    "    else:\n",
    "        print(i)"
   ]
  },
  {
   "cell_type": "code",
   "execution_count": null,
   "metadata": {},
   "outputs": [],
   "source": [
    "# Exercice 5\n",
    "\n",
    "def inverser_une_liste(liste:list) -> list:\n",
    "    \"\"\"Inverse l'ordre des éléments d'une liste\n",
    "\n",
    "    Args:\n",
    "        liste (list): Liste à inverser\n",
    "\n",
    "    Returns:\n",
    "        list: La liste inversée\n",
    "    \"\"\"\n",
    "    # liste = liste.copy()\n",
    "    # for i in range(0, len(liste)//2):\n",
    "    #     liste[i], liste[len(liste)-1-i] = liste[len(liste)-1-i], liste[i]\n",
    "    # return liste\n",
    "    \n",
    "    liste_inverse = []\n",
    "    for i in range(len(liste)):\n",
    "        liste_inverse.append(liste[-i-1])\n",
    "    return liste_inverse"
   ]
  },
  {
   "cell_type": "code",
   "execution_count": null,
   "metadata": {},
   "outputs": [],
   "source": [
    "liste_a_trier = [1, \"test\", 0.9867, \"Python, c'est génial !\"]"
   ]
  },
  {
   "cell_type": "code",
   "execution_count": null,
   "metadata": {},
   "outputs": [],
   "source": [
    "inverser_une_liste(liste_a_trier)"
   ]
  },
  {
   "cell_type": "code",
   "execution_count": null,
   "metadata": {},
   "outputs": [],
   "source": [
    "liste_a_trier"
   ]
  },
  {
   "cell_type": "code",
   "execution_count": null,
   "metadata": {},
   "outputs": [],
   "source": [
    "# Exercice 6 :\n",
    "\n",
    "dico = {\n",
    "    \"Python\" : \"Meilleur langage de programmation\",\n",
    "    \"Test\" : \"Ce que vous allez passer votre vie à faire\"\n",
    "}\n",
    "\n",
    "while True:\n",
    "    cmd_user = input(\"Quel mot recherchez vous ?\")\n",
    "    mot = dico.get(cmd_user)\n",
    "    if mot:\n",
    "        print(mot)\n",
    "    else:\n",
    "        print(\"On ne connait pas ce mot\")"
   ]
  },
  {
   "cell_type": "code",
   "execution_count": null,
   "metadata": {},
   "outputs": [],
   "source": []
  }
 ],
 "metadata": {
  "kernelspec": {
   "display_name": "sklearn-env",
   "language": "python",
   "name": "python3"
  },
  "language_info": {
   "codemirror_mode": {
    "name": "ipython",
    "version": 3
   },
   "file_extension": ".py",
   "mimetype": "text/x-python",
   "name": "python",
   "nbconvert_exporter": "python",
   "pygments_lexer": "ipython3",
   "version": "3.10.6"
  },
  "orig_nbformat": 4,
  "vscode": {
   "interpreter": {
    "hash": "0e4255e97b537ea61dec9c50e113aefa36b17372804a16a1280ad13cb4b6267c"
   }
  }
 },
 "nbformat": 4,
 "nbformat_minor": 2
}
